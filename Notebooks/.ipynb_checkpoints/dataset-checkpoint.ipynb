{
 "cells": [
  {
   "cell_type": "code",
   "execution_count": null,
   "metadata": {
    "colab": {
     "base_uri": "https://localhost:8080/"
    },
    "id": "2j5DeAIlSFDP",
    "outputId": "7f4a2b42-0d76-46a0-b5f7-4b898a091a4a"
   },
   "outputs": [
    {
     "name": "stdout",
     "output_type": "stream",
     "text": [
      "TensorFlow 1.x selected.\n"
     ]
    },
    {
     "name": "stderr",
     "output_type": "stream",
     "text": [
      "Using TensorFlow backend.\n"
     ]
    }
   ],
   "source": [
    "import numpy as np\n",
    "from pathlib import Path\n",
    "import re\n",
    "import pandas as pd\n",
    "\n",
    "%tensorflow_version 1.x\n",
    "import tensorflow as tf\n",
    "import tensorflow_hub as hub\n",
    "import keras\n",
    "import keras.layers as layers\n",
    "from keras.models import Model\n",
    "import keras.backend as K\n",
    "\n",
    "from sklearn.model_selection import train_test_split"
   ]
  },
  {
   "cell_type": "code",
   "execution_count": null,
   "metadata": {
    "id": "J2FJLJLPs6VW"
   },
   "outputs": [],
   "source": [
    "!unzip Adaptations.zip"
   ]
  },
  {
   "cell_type": "code",
   "execution_count": null,
   "metadata": {
    "id": "ylKLtO15c0rF"
   },
   "outputs": [],
   "source": [
    "import re\n",
    "\n",
    "RC_docs =[]\n",
    "for file in Path(\"./Adaptations\").rglob(\"*.txt\"):\n",
    "  with open(file, encoding = \"ISO-8859-1\") as f:\n",
    "    list_ = []\n",
    "    txt_file_as_string = f.read()\n",
    "    txt_file_as_string = re.sub(r'[^a-zA-Z0-9. /\"]', r'', txt_file_as_string)\n",
    "    list_.append(txt_file_as_string)\n",
    "    list_.append(1)\n",
    "  RC_docs.append(list_)"
   ]
  },
  {
   "cell_type": "code",
   "execution_count": null,
   "metadata": {
    "id": "4Z7TQJPz2MIH"
   },
   "outputs": [],
   "source": [
    "!unzip Random.zip"
   ]
  },
  {
   "cell_type": "code",
   "execution_count": null,
   "metadata": {
    "id": "0c8QuO06pXFU"
   },
   "outputs": [],
   "source": [
    "import re\n",
    "\n",
    "random_docs =[]\n",
    "for file in Path(\"./Random\").rglob(\"*.txt\"):\n",
    "  with open(file, encoding = \"ISO-8859-1\") as f:\n",
    "    list_ = []\n",
    "    txt_file_as_string = f.read()\n",
    "    txt_file_as_string = re.sub(r'[^a-zA-Z0-9. /\"]', r'', txt_file_as_string)\n",
    "    list_.append(txt_file_as_string)\n",
    "    list_.append(0)\n",
    "  random_docs.append(list_)"
   ]
  },
  {
   "cell_type": "code",
   "execution_count": null,
   "metadata": {
    "id": "DFXpL7jtS2VT"
   },
   "outputs": [],
   "source": [
    "df_random = pd.DataFrame(random_docs,columns=['text','label'])\n",
    "df_random = df.sample(n=1484)\n",
    "df_rc = pd.DataFrame(RC_docs,columns=['text','label'])"
   ]
  },
  {
   "cell_type": "code",
   "execution_count": null,
   "metadata": {
    "colab": {
     "base_uri": "https://localhost:8080/",
     "height": 419
    },
    "id": "1T2_U8gnUFY8",
    "outputId": "4dcd66bc-81c9-4545-a3b6-521fa68f4d60"
   },
   "outputs": [
    {
     "data": {
      "text/html": [
       "<div>\n",
       "<style scoped>\n",
       "    .dataframe tbody tr th:only-of-type {\n",
       "        vertical-align: middle;\n",
       "    }\n",
       "\n",
       "    .dataframe tbody tr th {\n",
       "        vertical-align: top;\n",
       "    }\n",
       "\n",
       "    .dataframe thead th {\n",
       "        text-align: right;\n",
       "    }\n",
       "</style>\n",
       "<table border=\"1\" class=\"dataframe\">\n",
       "  <thead>\n",
       "    <tr style=\"text-align: right;\">\n",
       "      <th></th>\n",
       "      <th>text</th>\n",
       "      <th>label</th>\n",
       "    </tr>\n",
       "  </thead>\n",
       "  <tbody>\n",
       "    <tr>\n",
       "      <th>0</th>\n",
       "      <td>TWO LETTERS FROM MR. BURKE ON THE BILLS relati...</td>\n",
       "      <td>0</td>\n",
       "    </tr>\n",
       "    <tr>\n",
       "      <th>1</th>\n",
       "      <td>I fixed my umbrolh the in slap in the turn lik...</td>\n",
       "      <td>1</td>\n",
       "    </tr>\n",
       "    <tr>\n",
       "      <th>2</th>\n",
       "      <td>AN EXPLANATION OF THE Duties of Religion FOR T...</td>\n",
       "      <td>0</td>\n",
       "    </tr>\n",
       "    <tr>\n",
       "      <th>3</th>\n",
       "      <td>ANESSAYON THEHistory of PartiesANDPERSECUTIONI...</td>\n",
       "      <td>0</td>\n",
       "    </tr>\n",
       "    <tr>\n",
       "      <th>4</th>\n",
       "      <td>GLEANINGS IN ENGLAND.GLEANINGS IN ENGLAND DESC...</td>\n",
       "      <td>0</td>\n",
       "    </tr>\n",
       "    <tr>\n",
       "      <th>...</th>\n",
       "      <td>...</td>\n",
       "      <td>...</td>\n",
       "    </tr>\n",
       "    <tr>\n",
       "      <th>2963</th>\n",
       "      <td>1771 Life and Adventures ofRobinson CrusoeBY D...</td>\n",
       "      <td>1</td>\n",
       "    </tr>\n",
       "    <tr>\n",
       "      <th>2964</th>\n",
       "      <td>BEKNOPTELEVENSGESCHIEDENISVANROBINSON CRUSOEBe...</td>\n",
       "      <td>1</td>\n",
       "    </tr>\n",
       "    <tr>\n",
       "      <th>2965</th>\n",
       "      <td>III A bAluIhl.ry..l.ruuln. 4 \"hr/0 . .mrum . ....</td>\n",
       "      <td>1</td>\n",
       "    </tr>\n",
       "    <tr>\n",
       "      <th>2966</th>\n",
       "      <td>1 FLA VITA  E LE AVVENTURE  D I ROBINSONE GRUS...</td>\n",
       "      <td>1</td>\n",
       "    </tr>\n",
       "    <tr>\n",
       "      <th>2967</th>\n",
       "      <td>\" HubbardImaginaryVoyagesPR34055CU.tvU4Wmi\"N ...</td>\n",
       "      <td>1</td>\n",
       "    </tr>\n",
       "  </tbody>\n",
       "</table>\n",
       "<p>2968 rows × 2 columns</p>\n",
       "</div>"
      ],
      "text/plain": [
       "                                                   text  label\n",
       "0     TWO LETTERS FROM MR. BURKE ON THE BILLS relati...      0\n",
       "1     I fixed my umbrolh the in slap in the turn lik...      1\n",
       "2     AN EXPLANATION OF THE Duties of Religion FOR T...      0\n",
       "3     ANESSAYON THEHistory of PartiesANDPERSECUTIONI...      0\n",
       "4     GLEANINGS IN ENGLAND.GLEANINGS IN ENGLAND DESC...      0\n",
       "...                                                 ...    ...\n",
       "2963  1771 Life and Adventures ofRobinson CrusoeBY D...      1\n",
       "2964  BEKNOPTELEVENSGESCHIEDENISVANROBINSON CRUSOEBe...      1\n",
       "2965  III A bAluIhl.ry..l.ruuln. 4 \"hr/0 . .mrum . ....      1\n",
       "2966  1 FLA VITA  E LE AVVENTURE  D I ROBINSONE GRUS...      1\n",
       "2967   \" HubbardImaginaryVoyagesPR34055CU.tvU4Wmi\"N ...      1\n",
       "\n",
       "[2968 rows x 2 columns]"
      ]
     },
     "execution_count": 16,
     "metadata": {
      "tags": []
     },
     "output_type": "execute_result"
    }
   ],
   "source": [
    "df = df_random.append(df_rc, ignore_index=True)\n",
    "df"
   ]
  },
  {
   "cell_type": "code",
   "execution_count": null,
   "metadata": {
    "id": "S2M7XjNy8YiB"
   },
   "outputs": [],
   "source": [
    "df.to_hdf('training_set.h5', key='balanced', mode='w')"
   ]
  }
 ],
 "metadata": {
  "accelerator": "GPU",
  "colab": {
   "collapsed_sections": [],
   "name": "dataset.ipynb",
   "provenance": []
  },
  "kernelspec": {
   "display_name": "Python 3",
   "language": "python",
   "name": "python3"
  },
  "language_info": {
   "codemirror_mode": {
    "name": "ipython",
    "version": 3
   },
   "file_extension": ".py",
   "mimetype": "text/x-python",
   "name": "python",
   "nbconvert_exporter": "python",
   "pygments_lexer": "ipython3",
   "version": "3.7.4"
  }
 },
 "nbformat": 4,
 "nbformat_minor": 1
}
