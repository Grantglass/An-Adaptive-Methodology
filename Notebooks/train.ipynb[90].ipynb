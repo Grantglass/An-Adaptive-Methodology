{
  "nbformat": 4,
  "nbformat_minor": 0,
  "metadata": {
    "colab": {
      "name": "train.ipynb",
      "provenance": [],
      "collapsed_sections": []
    },
    "kernelspec": {
      "name": "python3",
      "display_name": "Python 3"
    },
    "accelerator": "GPU"
  },
  "cells": [
    {
      "cell_type": "code",
      "metadata": {
        "colab": {
          "base_uri": "https://localhost:8080/"
        },
        "id": "aEf4KLzuR6RB",
        "outputId": "8e2084aa-73b4-410a-e79c-eb885db8a7b6"
      },
      "source": [
        "cd drive/My Drive/app/EGR590"
      ],
      "execution_count": 37,
      "outputs": [
        {
          "output_type": "stream",
          "text": [
            "[Errno 2] No such file or directory: 'drive/My Drive/app/EGR590'\n",
            "/content/drive/My Drive/app/EGR590\n"
          ],
          "name": "stdout"
        }
      ]
    },
    {
      "cell_type": "code",
      "metadata": {
        "id": "2j5DeAIlSFDP",
        "colab": {
          "base_uri": "https://localhost:8080/"
        },
        "outputId": "633bbdb9-2ebe-4d46-cd41-6f243afa8b40"
      },
      "source": [
        "import numpy as np\n",
        "from pathlib import Path\n",
        "import re\n",
        "import pandas as pd\n",
        "\n",
        "%tensorflow_version 1.x\n",
        "import tensorflow as tf\n",
        "import tensorflow_hub as hub\n",
        "import keras\n",
        "import keras.layers as layers\n",
        "from keras.models import Model\n",
        "import keras.backend as K\n",
        "\n",
        "from sklearn.model_selection import train_test_split\n",
        "from sklearn import metrics"
      ],
      "execution_count": 2,
      "outputs": [
        {
          "output_type": "stream",
          "text": [
            "TensorFlow 1.x selected.\n"
          ],
          "name": "stdout"
        },
        {
          "output_type": "stream",
          "text": [
            "Using TensorFlow backend.\n"
          ],
          "name": "stderr"
        }
      ]
    },
    {
      "cell_type": "code",
      "metadata": {
        "id": "fhx9UA4vmaes"
      },
      "source": [
        "df = pd.read_hdf('./training_set.h5', 'balanced')\n",
        "df"
      ],
      "execution_count": null,
      "outputs": []
    },
    {
      "cell_type": "code",
      "metadata": {
        "id": "-q8SpjYyoJyn"
      },
      "source": [
        "X = df['text'].tolist()\n",
        "X = np.array(X, dtype=object)[:, np.newaxis]\n",
        "\n",
        "y = np.asarray(pd.get_dummies(df['label']), dtype = np.int8)"
      ],
      "execution_count": 5,
      "outputs": []
    },
    {
      "cell_type": "code",
      "metadata": {
        "id": "-3YIHsgxsFaf"
      },
      "source": [
        "X_train, X_test, y_train, y_test = train_test_split(X, y, test_size=0.3, random_state=42)"
      ],
      "execution_count": 6,
      "outputs": []
    },
    {
      "cell_type": "code",
      "metadata": {
        "id": "KCGHqPMA928v"
      },
      "source": [
        "X_val, X_test, y_val, y_test = train_test_split(X_test, y_test, test_size=0.5, random_state=42)"
      ],
      "execution_count": 7,
      "outputs": []
    },
    {
      "cell_type": "code",
      "metadata": {
        "id": "ob5E93ySXwrs"
      },
      "source": [
        "#embed = hub.load(\"https://tfhub.dev/google/universal-sentence-encoder-large/5\")\n",
        "\n",
        "filename = \"./USEmodel\"\n",
        "embed = hub.load(filename)"
      ],
      "execution_count": null,
      "outputs": []
    },
    {
      "cell_type": "code",
      "metadata": {
        "id": "RTG2S3lNVwzz"
      },
      "source": [
        "def UniversalEmbedding(x):\n",
        "    return embed(tf.squeeze(tf.cast(x, tf.string), axis=[1]))"
      ],
      "execution_count": 9,
      "outputs": []
    },
    {
      "cell_type": "code",
      "metadata": {
        "id": "zr3zaX94YPK8"
      },
      "source": [
        "input_text = layers.Input(shape=(1,), dtype=tf.string)\n",
        "embedding = layers.Lambda(UniversalEmbedding,\n",
        "\toutput_shape=(512,))(input_text)\n",
        "dense = layers.Dense(256, activation='relu')(embedding)\n",
        "dense = layers.Dense(32, activation='relu')(dense)\n",
        "pred = layers.Dense(2, activation='softmax')(dense)\n",
        "model = Model(inputs=[input_text], outputs=pred)\n",
        "model.compile(loss='categorical_crossentropy', \n",
        "\toptimizer='adam', metrics=['accuracy'])"
      ],
      "execution_count": 38,
      "outputs": []
    },
    {
      "cell_type": "code",
      "metadata": {
        "colab": {
          "base_uri": "https://localhost:8080/"
        },
        "id": "uzsFzvWnYpxk",
        "outputId": "70e70094-4465-4a5a-f900-30cd35d35efa"
      },
      "source": [
        "with tf.Session() as session:\n",
        "  K.set_session(session)\n",
        "  session.run(tf.global_variables_initializer())\n",
        "  session.run(tf.tables_initializer())\n",
        "  history = model.fit(X_train, \n",
        "            y_train,\n",
        "            validation_data=(X_val, y_val),\n",
        "            epochs=8,\n",
        "            batch_size=10)\n",
        "  model.save_weights('./model.h5')"
      ],
      "execution_count": 12,
      "outputs": [
        {
          "output_type": "stream",
          "text": [
            "WARNING:tensorflow:From /tensorflow-1.15.2/python3.6/keras/backend/tensorflow_backend.py:422: The name tf.global_variables is deprecated. Please use tf.compat.v1.global_variables instead.\n",
            "\n"
          ],
          "name": "stdout"
        },
        {
          "output_type": "stream",
          "text": [
            "WARNING:tensorflow:From /tensorflow-1.15.2/python3.6/keras/backend/tensorflow_backend.py:422: The name tf.global_variables is deprecated. Please use tf.compat.v1.global_variables instead.\n",
            "\n"
          ],
          "name": "stderr"
        },
        {
          "output_type": "stream",
          "text": [
            "WARNING:tensorflow:From /tensorflow-1.15.2/python3.6/keras/backend/tensorflow_backend.py:431: The name tf.is_variable_initialized is deprecated. Please use tf.compat.v1.is_variable_initialized instead.\n",
            "\n"
          ],
          "name": "stdout"
        },
        {
          "output_type": "stream",
          "text": [
            "WARNING:tensorflow:From /tensorflow-1.15.2/python3.6/keras/backend/tensorflow_backend.py:431: The name tf.is_variable_initialized is deprecated. Please use tf.compat.v1.is_variable_initialized instead.\n",
            "\n"
          ],
          "name": "stderr"
        },
        {
          "output_type": "stream",
          "text": [
            "Train on 2077 samples, validate on 445 samples\n",
            "Epoch 1/8\n",
            "2077/2077 [==============================] - 731s 352ms/step - loss: 0.1473 - accuracy: 0.9432 - val_loss: 0.0572 - val_accuracy: 0.9798\n",
            "Epoch 2/8\n",
            "2077/2077 [==============================] - 748s 360ms/step - loss: 0.0438 - accuracy: 0.9860 - val_loss: 0.0475 - val_accuracy: 0.9843\n",
            "Epoch 3/8\n",
            "2077/2077 [==============================] - 752s 362ms/step - loss: 0.0234 - accuracy: 0.9918 - val_loss: 0.0394 - val_accuracy: 0.9888\n",
            "Epoch 4/8\n",
            "2077/2077 [==============================] - 751s 362ms/step - loss: 0.0210 - accuracy: 0.9937 - val_loss: 0.0459 - val_accuracy: 0.9865\n",
            "Epoch 5/8\n",
            "2077/2077 [==============================] - 743s 358ms/step - loss: 0.0138 - accuracy: 0.9957 - val_loss: 0.0396 - val_accuracy: 0.9888\n",
            "Epoch 6/8\n",
            "2077/2077 [==============================] - 764s 368ms/step - loss: 0.0137 - accuracy: 0.9947 - val_loss: 0.0342 - val_accuracy: 0.9910\n",
            "Epoch 7/8\n",
            "2077/2077 [==============================] - 764s 368ms/step - loss: 0.0092 - accuracy: 0.9971 - val_loss: 0.0410 - val_accuracy: 0.9865\n",
            "Epoch 8/8\n",
            "2077/2077 [==============================] - 747s 360ms/step - loss: 0.0086 - accuracy: 0.9966 - val_loss: 0.0585 - val_accuracy: 0.9820\n"
          ],
          "name": "stdout"
        }
      ]
    },
    {
      "cell_type": "code",
      "metadata": {
        "id": "PJbPSHH7xlJc",
        "colab": {
          "base_uri": "https://localhost:8080/"
        },
        "outputId": "d6c6707a-5b83-42a6-d999-1c9b8c1dfc6c"
      },
      "source": [
        "with tf.Session() as session:\n",
        "  K.set_session(session)\n",
        "  session.run(tf.global_variables_initializer())\n",
        "  session.run(tf.tables_initializer())\n",
        "  model.load_weights('./model.h5')\n",
        "  y_preds = model.predict(X_test, batch_size = 10)"
      ],
      "execution_count": 11,
      "outputs": [
        {
          "output_type": "stream",
          "text": [
            "WARNING:tensorflow:From /tensorflow-1.15.2/python3.6/keras/backend/tensorflow_backend.py:422: The name tf.global_variables is deprecated. Please use tf.compat.v1.global_variables instead.\n",
            "\n"
          ],
          "name": "stdout"
        },
        {
          "output_type": "stream",
          "text": [
            "WARNING:tensorflow:From /tensorflow-1.15.2/python3.6/keras/backend/tensorflow_backend.py:422: The name tf.global_variables is deprecated. Please use tf.compat.v1.global_variables instead.\n",
            "\n"
          ],
          "name": "stderr"
        },
        {
          "output_type": "stream",
          "text": [
            "WARNING:tensorflow:From /tensorflow-1.15.2/python3.6/keras/backend/tensorflow_backend.py:431: The name tf.is_variable_initialized is deprecated. Please use tf.compat.v1.is_variable_initialized instead.\n",
            "\n"
          ],
          "name": "stdout"
        },
        {
          "output_type": "stream",
          "text": [
            "WARNING:tensorflow:From /tensorflow-1.15.2/python3.6/keras/backend/tensorflow_backend.py:431: The name tf.is_variable_initialized is deprecated. Please use tf.compat.v1.is_variable_initialized instead.\n",
            "\n"
          ],
          "name": "stderr"
        }
      ]
    },
    {
      "cell_type": "code",
      "metadata": {
        "id": "zEM94D9RiA9m"
      },
      "source": [
        "y_preds = np.argmax(y_preds, axis=1)\n",
        "y_test_l = np.argmax(y_test, axis=1)"
      ],
      "execution_count": 34,
      "outputs": []
    },
    {
      "cell_type": "code",
      "metadata": {
        "colab": {
          "base_uri": "https://localhost:8080/"
        },
        "id": "XxrLaupFgl1D",
        "outputId": "7b55b997-d7a0-4aad-a12c-504c3229a329"
      },
      "source": [
        "metrics.confusion_matrix(y_test_l, y_preds)"
      ],
      "execution_count": 35,
      "outputs": [
        {
          "output_type": "execute_result",
          "data": {
            "text/plain": [
              "array([[137,   0],\n",
              "       [  3, 306]])"
            ]
          },
          "metadata": {
            "tags": []
          },
          "execution_count": 35
        }
      ]
    },
    {
      "cell_type": "code",
      "metadata": {
        "colab": {
          "base_uri": "https://localhost:8080/"
        },
        "id": "nVg6neTZhQxi",
        "outputId": "9781c473-3438-436a-956f-cf8114e8d360"
      },
      "source": [
        "print(metrics.classification_report(y_test_l, y_preds))"
      ],
      "execution_count": 36,
      "outputs": [
        {
          "output_type": "stream",
          "text": [
            "              precision    recall  f1-score   support\n",
            "\n",
            "           0       0.98      1.00      0.99       137\n",
            "           1       1.00      0.99      1.00       309\n",
            "\n",
            "    accuracy                           0.99       446\n",
            "   macro avg       0.99      1.00      0.99       446\n",
            "weighted avg       0.99      0.99      0.99       446\n",
            "\n"
          ],
          "name": "stdout"
        }
      ]
    },
    {
      "cell_type": "code",
      "metadata": {
        "id": "iLvPTXCyhWts"
      },
      "source": [
        ""
      ],
      "execution_count": null,
      "outputs": []
    }
  ]
}